{
 "cells": [
  {
   "cell_type": "code",
   "execution_count": 3,
   "id": "macro-spray",
   "metadata": {},
   "outputs": [],
   "source": [
    "import pandas as pd\n",
    "from sklearn import metrics\n",
    "import math\n",
    "\n",
    "filenames = [\n",
    "    'stats_hermopoulis_standard__lmt_1000000__size_400__sup_12__bins_19__ts_absolute__bint_3600__epss_Infinity__epst_43200.csv', \n",
    "    'stats_hermopoulis_standard__lmt_1000000__size_400__sup_12__bins_19__ts_absolute__bint_3600__epss_Infinity__epst_Infinity.csv',\n",
    "    'stats_hermopoulis_standard__lmt_1000000__size_400__sup_12__bins_19__ts_notime__bint_1__epss_2__epst_Infinity.csv',\n",
    "    'stats_hermopoulis_standard__lmt_1000000__size_400__sup_12__bins_19__ts_notime__bint_1__epss_Infinity__epst_Infinity.csv']"
   ]
  },
  {
   "cell_type": "code",
   "execution_count": 5,
   "id": "material-frame",
   "metadata": {},
   "outputs": [
    {
     "name": "stdout",
     "output_type": "stream",
     "text": [
      "Swarm AMI: 0.17267\n",
      "Convoy AMI: 0.17261\n",
      "Flow AMI: 0.22995\n",
      "Co-location AMI: 0.22995\n"
     ]
    }
   ],
   "source": [
    "def ptype(s):\n",
    "    if 'ts_notime' in s:\n",
    "        if 'epss_Infinity' in s:\n",
    "            return 'Co-location'\n",
    "        else:\n",
    "            return 'Flow'\n",
    "    else:\n",
    "        if 'epst_Infinity' in s:\n",
    "            return 'Convoy'\n",
    "        else:\n",
    "            return 'Swarm'\n",
    "for f in filenames:\n",
    "    df = pd.read_csv('../../../../' + f).fillna(0)\n",
    "    df['pattern'] = df.apply(lambda x: ptype(f), axis=1)\n",
    "    print(ptype(f) + \" AMI: \" + str(round(metrics.adjusted_mutual_info_score(df['c'], df['csemf']), 5)))\n",
    "    # print(ptype(f) + \" NMI: \" + str(metrics.normalized_mutual_info_score(df['c'], df['csemf'])))"
   ]
  }
 ],
 "metadata": {
  "kernelspec": {
   "display_name": "Python 3",
   "language": "python",
   "name": "python3"
  },
  "language_info": {
   "codemirror_mode": {
    "name": "ipython",
    "version": 3
   },
   "file_extension": ".py",
   "mimetype": "text/x-python",
   "name": "python",
   "nbconvert_exporter": "python",
   "pygments_lexer": "ipython3",
   "version": "3.6.9"
  }
 },
 "nbformat": 4,
 "nbformat_minor": 5
}
